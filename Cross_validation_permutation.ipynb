{
 "cells": [
  {
   "cell_type": "markdown",
   "metadata": {},
   "source": [
    "# Effect of cross validation and permutation\n",
    "\n",
    "--By Reyan Korel Erben, Qinyuan Fang"
   ]
  },
  {
   "cell_type": "markdown",
   "metadata": {},
   "source": [
    "We want to examine the effect of cross validation in performance and generalization. \n",
    "\n",
    "## Firstly we import the data of one patient from the EEG experiment. "
   ]
  },
  {
   "cell_type": "code",
   "execution_count": 1,
   "metadata": {
    "scrolled": true
   },
   "outputs": [
    {
     "name": "stdout",
     "output_type": "stream",
     "text": [
      "This filename (../PracticalSessions/817_1_PDDys_ODDBALL_Clean_curated.fif) does not conform to MNE naming conventions. All epochs files should end with -epo.fif, -epo.fif.gz, _epo.fif or _epo.fif.gz\n",
      "Reading ../PracticalSessions/817_1_PDDys_ODDBALL_Clean_curated.fif ...\n",
      "    Found the data of interest:\n",
      "        t =    -100.00 ...     500.00 ms\n",
      "        0 CTF compensation matrices available\n",
      "189 matching events found\n",
      "No baseline correction applied\n",
      "189 matching events found\n",
      "No baseline correction applied\n",
      "Not setting metadata\n",
      "0 projection items activated\n",
      "Setting up band-pass filter from 0.1 - 20 Hz\n",
      "l_trans_bandwidth chosen to be 0.1 Hz\n",
      "h_trans_bandwidth chosen to be 5.0 Hz\n",
      "Filter length of 16501 samples (33.002 sec) selected\n",
      "filter_length (16501) is longer than the signal (301), distortion is likely. Reduce filter length or filter a longer signal.\n"
     ]
    },
    {
     "name": "stderr",
     "output_type": "stream",
     "text": [
      "<ipython-input-1-1e4ca4313bcf>:10: RuntimeWarning: This filename (../PracticalSessions/817_1_PDDys_ODDBALL_Clean_curated.fif) does not conform to MNE naming conventions. All epochs files should end with -epo.fif, -epo.fif.gz, _epo.fif or _epo.fif.gz\n",
      "  epochs = mne.read_epochs(filename + '.fif')\n",
      "<ipython-input-1-1e4ca4313bcf>:12: RuntimeWarning: filter_length (16501) is longer than the signal (301), distortion is likely. Reduce filter length or filter a longer signal.\n",
      "  epochs.filter(l_freq = 0.1, h_freq = 20)\n"
     ]
    },
    {
     "name": "stdout",
     "output_type": "stream",
     "text": [
      "Applying baseline correction (mode: mean)\n"
     ]
    },
    {
     "data": {
      "text/plain": [
       "<EpochsFIF  |   160 events (all good), -0.1 - 0.5 sec, baseline [None, 0], ~22.2 MB, data loaded,\n",
       " 'Novel': 30\n",
       " 'Standard': 130>"
      ]
     },
     "execution_count": 1,
     "metadata": {},
     "output_type": "execute_result"
    }
   ],
   "source": [
    "import mne\n",
    "\n",
    "# Folder & files containing the data:\n",
    "data_path = '../PracticalSessions/'\n",
    "data_file = '817_1_PDDys_ODDBALL_Clean_curated'\n",
    "\n",
    "filename = data_path + data_file\n",
    "\n",
    "# We read the EEG epochs:\n",
    "epochs = mne.read_epochs(filename + '.fif')\n",
    "epochs = epochs['Standard', 'Novel']\n",
    "epochs.filter(l_freq = 0.1, h_freq = 20)\n",
    "epochs.apply_baseline((None, 0))"
   ]
  },
  {
   "cell_type": "markdown",
   "metadata": {},
   "source": [
    "## Get data and labels"
   ]
  },
  {
   "cell_type": "code",
   "execution_count": 2,
   "metadata": {},
   "outputs": [
    {
     "data": {
      "text/plain": [
       "(160, 60, 301)"
      ]
     },
     "execution_count": 2,
     "metadata": {},
     "output_type": "execute_result"
    }
   ],
   "source": [
    "# and get the data:\n",
    "data = epochs._data\n",
    "\n",
    "# and labels:\n",
    "labels = epochs.events[:,-1]\n",
    "\n",
    "data.shape\n",
    "#labels.shape"
   ]
  },
  {
   "cell_type": "markdown",
   "metadata": {},
   "source": [
    "## Make pipeline"
   ]
  },
  {
   "cell_type": "code",
   "execution_count": 3,
   "metadata": {},
   "outputs": [],
   "source": [
    "from mne.decoding import Vectorizer\n",
    "\n",
    "from sklearn.preprocessing import StandardScaler\n",
    "from sklearn.pipeline import make_pipeline\n",
    "from sklearn.model_selection import cross_val_score\n",
    "from sklearn import svm\n",
    "from sklearn.model_selection import train_test_split"
   ]
  },
  {
   "cell_type": "code",
   "execution_count": 4,
   "metadata": {},
   "outputs": [],
   "source": [
    "clf_CV = make_pipeline(Vectorizer(), StandardScaler(),\n",
    "                    svm.SVC(kernel='linear',C=1)\n",
    "                   )"
   ]
  },
  {
   "cell_type": "markdown",
   "metadata": {},
   "source": [
    "## Cross validation, k = 2 - 10"
   ]
  },
  {
   "cell_type": "code",
   "execution_count": 5,
   "metadata": {},
   "outputs": [
    {
     "name": "stdout",
     "output_type": "stream",
     "text": [
      "[0.         0.         0.85       0.84346611 0.86944966 0.83125\n",
      " 0.83072175 0.84396763 0.84296679 0.85041853]\n"
     ]
    }
   ],
   "source": [
    "import numpy as np\n",
    "all_scores = np.array([0,0])\n",
    "\n",
    "for ii in range (2,10):\n",
    "    scores = cross_val_score(clf_CV, data, labels, cv=ii)\n",
    "    all_scores =  np.append(all_scores,scores.mean())\n",
    "    #print(\"Accuracy: %0.2f (+/- %0.2f)\" % (scores.mean(), scores.std() * 2))#\n",
    "print(all_scores)\n"
   ]
  },
  {
   "cell_type": "code",
   "execution_count": 6,
   "metadata": {},
   "outputs": [
    {
     "data": {
      "text/plain": [
       "[<matplotlib.lines.Line2D at 0x8219154a8>]"
      ]
     },
     "execution_count": 6,
     "metadata": {},
     "output_type": "execute_result"
    },
    {
     "data": {
      "image/png": "[encoded data removed]",
      "text/plain": [
       "<Figure size 432x288 with 1 Axes>"
      ]
     },
     "metadata": {
      "needs_background": "light"
     },
     "output_type": "display_data"
    }
   ],
   "source": [
    "import matplotlib.pyplot as plt\n",
    "%matplotlib inline\n",
    "plt.plot(all_scores)"
   ]
  },
  {
   "cell_type": "markdown",
   "metadata": {},
   "source": [
    "### Best mean score : 0.87, k = 4"
   ]
  },
  {
   "cell_type": "code",
   "execution_count": 7,
   "metadata": {},
   "outputs": [
    {
     "name": "stdout",
     "output_type": "stream",
     "text": [
      "best cv score:  0.8694496560350219\n",
      "fold :  4\n"
     ]
    }
   ],
   "source": [
    "best_cv_score = all_scores.max()\n",
    "print('best cv score: ',best_cv_score)\n",
    "print('fold : ',np.argmax(all_scores))"
   ]
  },
  {
   "cell_type": "markdown",
   "metadata": {},
   "source": [
    "## ShuffleSplit\n",
    "\n",
    "The ShuffleSplit iterator will generate a user defined number of independent train / test dataset splits. Samples are first shuffled and then split into a pair of train and test sets.\n",
    "\n",
    "It is possible to control the randomness for reproducibility of the results by explicitly seeding the random_state pseudo random number generator.\n",
    "\n",
    "Here is a visualization of the cross-validation behavior. Note that ShuffleSplit is not affected by classes or groups.\n"
   ]
  },
  {
   "cell_type": "markdown",
   "metadata": {},
   "source": [
    "![title](1.png)"
   ]
  },
  {
   "cell_type": "markdown",
   "metadata": {},
   "source": [
    "## 4-fold cv with shuffle (5 iterations)"
   ]
  },
  {
   "cell_type": "code",
   "execution_count": 8,
   "metadata": {},
   "outputs": [
    {
     "name": "stdout",
     "output_type": "stream",
     "text": [
      "[0.85  0.875 0.825 0.75  0.85 ] mean =  0.8299999999999998\n"
     ]
    }
   ],
   "source": [
    "from sklearn.model_selection import ShuffleSplit\n",
    "cv = ShuffleSplit(n_splits=5, test_size=0.25, random_state=0)\n",
    "scores_shuffled = cross_val_score(clf_CV, data, labels, cv=cv)\n",
    "#print(scores_shuffled)\n",
    "score_cv_shuffle5 = scores_shuffled.mean()\n",
    "print (scores_shuffled, 'mean = ',score_cv_shuffle5)"
   ]
  },
  {
   "cell_type": "markdown",
   "metadata": {},
   "source": [
    "### mean score = 0.830"
   ]
  },
  {
   "cell_type": "markdown",
   "metadata": {},
   "source": [
    "## 4-fold cv with shuffle (20 iterations)"
   ]
  },
  {
   "cell_type": "code",
   "execution_count": 9,
   "metadata": {},
   "outputs": [
    {
     "name": "stdout",
     "output_type": "stream",
     "text": [
      "[0.85  0.875 0.825 0.75  0.85  0.875 0.925 0.825 0.825 0.9   0.8   0.85\n",
      " 0.875 0.85  0.825 0.9   0.725 0.775 0.875 0.8  ] mean =  0.8387500000000001\n"
     ]
    }
   ],
   "source": [
    "cv = ShuffleSplit(n_splits=20, test_size=0.25, random_state=0)\n",
    "scores_shuffled = cross_val_score(clf_CV, data, labels, cv=cv)\n",
    "#print(scores_shuffled)\n",
    "score_cv_shuffle20 = scores_shuffled.mean()\n",
    "print(scores_shuffled, 'mean = ',score_cv_shuffle20)"
   ]
  },
  {
   "cell_type": "markdown",
   "metadata": {},
   "source": [
    "### mean score = 0.838"
   ]
  },
  {
   "cell_type": "markdown",
   "metadata": {},
   "source": [
    "## Normal fit"
   ]
  },
  {
   "cell_type": "code",
   "execution_count": 10,
   "metadata": {},
   "outputs": [],
   "source": [
    "data_train, data_test, labels_train, labels_test = train_test_split(data, labels, test_size=0.25, random_state=0)"
   ]
  },
  {
   "cell_type": "code",
   "execution_count": 11,
   "metadata": {},
   "outputs": [],
   "source": [
    "clf = make_pipeline(Vectorizer(), StandardScaler(),\n",
    "                    svm.SVC(kernel='linear',C=1)\n",
    "                   )"
   ]
  },
  {
   "cell_type": "code",
   "execution_count": 12,
   "metadata": {},
   "outputs": [
    {
     "data": {
      "text/plain": [
       "Pipeline(memory=None,\n",
       "     steps=[('vectorizer', <mne.decoding.transformer.Vectorizer object at 0x81d379e80>), ('standardscaler', StandardScaler(copy=True, with_mean=True, with_std=True)), ('svc', SVC(C=1, cache_size=200, class_weight=None, coef0=0.0,\n",
       "  decision_function_shape='ovr', degree=3, gamma='auto', kernel='linear',\n",
       "  max_iter=-1, probability=False, random_state=None, shrinking=True,\n",
       "  tol=0.001, verbose=False))])"
      ]
     },
     "execution_count": 12,
     "metadata": {},
     "output_type": "execute_result"
    }
   ],
   "source": [
    "clf.fit(data_train, labels_train)"
   ]
  },
  {
   "cell_type": "code",
   "execution_count": 13,
   "metadata": {},
   "outputs": [],
   "source": [
    "normal_training = clf.score(data_test, labels_test)"
   ]
  },
  {
   "cell_type": "markdown",
   "metadata": {},
   "source": [
    "## Permutation Test"
   ]
  },
  {
   "cell_type": "code",
   "execution_count": 14,
   "metadata": {},
   "outputs": [],
   "source": [
    "# Pipelines\n",
    "pipelines = []\n",
    "for i in range (25):\n",
    "    pipeline = make_pipeline(Vectorizer(), StandardScaler(),\n",
    "                    svm.SVC(kernel='linear',C=1)\n",
    "                   )\n",
    "    pipelines.append(pipeline)"
   ]
  },
  {
   "cell_type": "code",
   "execution_count": 22,
   "metadata": {},
   "outputs": [],
   "source": [
    "score_test = []\n",
    "np.random.seed(seed=0)\n",
    "for i in range(25):\n",
    "    labels_train_permute = np.random.permutation(labels_train)\n",
    "    # np.isclose(labels_train, labels_train_permute)\n",
    "    pipelines[i].fit(data_train, labels_train_permute)\n",
    "    score_test.append(pipelines[i].score(data_test, labels_test))\n",
    "    "
   ]
  },
  {
   "cell_type": "code",
   "execution_count": 23,
   "metadata": {},
   "outputs": [
    {
     "name": "stdout",
     "output_type": "stream",
     "text": [
      "[0.675, 0.8, 0.775, 0.675, 0.6, 0.775, 0.75, 0.65, 0.725, 0.8, 0.675, 0.7, 0.675, 0.8, 0.775, 0.75, 0.775, 0.675, 0.725, 0.725, 0.775, 0.7, 0.75, 0.7, 0.775]\n"
     ]
    }
   ],
   "source": [
    "print(score_test)"
   ]
  },
  {
   "cell_type": "code",
   "execution_count": 25,
   "metadata": {},
   "outputs": [
    {
     "name": "stdout",
     "output_type": "stream",
     "text": [
      "0.728\n"
     ]
    }
   ],
   "source": [
    "aver_permutest = np.mean(score_test)\n",
    "print(aver_permutest)"
   ]
  },
  {
   "cell_type": "markdown",
   "metadata": {},
   "source": [
    "## Results comparison"
   ]
  },
  {
   "cell_type": "code",
   "execution_count": 26,
   "metadata": {},
   "outputs": [
    {
     "data": {
      "image/png": "[encoded data removed]",
      "text/plain": [
       "<Figure size 432x288 with 1 Axes>"
      ]
     },
     "metadata": {
      "needs_background": "light"
     },
     "output_type": "display_data"
    }
   ],
   "source": [
    "bary = [normal_training, best_cv_score,score_cv_shuffle5,score_cv_shuffle20, aver_permutest]\n",
    "\n",
    "\n",
    "fig, ax = plt.subplots()\n",
    "\n",
    "ind = np.arange(1, 6)\n",
    "\n",
    "\n",
    "\n",
    "b1,b2,b3,b4,b5 = plt.bar(ind, bary)\n",
    "\n",
    "b5.set_facecolor('r')\n",
    "b1.set_facecolor('g')\n",
    "#b3.set_facecolor('b')\n",
    "\n",
    "ax.set_xticks(ind)\n",
    "ax.set_xticklabels(['fit','4-fold-cv', 'shuffle 5', 'shuffle 20','permutation'])\n",
    "ax.set_ylabel('score')\n",
    "#ax.set_title('')\n",
    "\n",
    "ax.set_ylim([0, 1])\n",
    "labels = np.around(bary, decimals=2)\n",
    "\n",
    "rects = ax.patches;\n",
    "\n",
    "for rect, label in zip(rects, labels):\n",
    "    height = rect.get_height()\n",
    "    ax.text(rect.get_x() + rect.get_width() / 2, height +0.03, label,\n",
    "           ha='center', va='bottom'\n",
    "           )\n",
    "\n",
    "\n",
    "plt.show()"
   ]
  },
  {
   "cell_type": "markdown",
   "metadata": {},
   "source": [
    "## Conclusion\n",
    "* By shuffling the data for cv we get lower accuracy, probably because of correlation in data sequence. Info lost.\n",
    "* Permutation test gives expeced worse result. "
   ]
  }
 ],
 "metadata": {
  "kernelspec": {
   "display_name": "Python [conda env:pip2018ml]",
   "language": "python",
   "name": "conda-env-pip2018ml-py"
  },
  "language_info": {
   "codemirror_mode": {
    "name": "ipython",
    "version": 3
   },
   "file_extension": ".py",
   "mimetype": "text/x-python",
   "name": "python",
   "nbconvert_exporter": "python",
   "pygments_lexer": "ipython3",
   "version": "3.6.6"
  }
 },
 "nbformat": 4,
 "nbformat_minor": 2
}
